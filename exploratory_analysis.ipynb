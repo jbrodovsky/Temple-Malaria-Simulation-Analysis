{
 "cells": [
  {
   "cell_type": "markdown",
   "id": "5ac53736-3a00-443d-9120-a37ee038a592",
   "metadata": {},
   "source": [
    "## Exploring Malaria Simulation Output Data"
   ]
  },
  {
   "cell_type": "code",
   "execution_count": null,
   "id": "08daa6a0-f860-43e1-be4f-cc107e0a09e9",
   "metadata": {},
   "outputs": [],
   "source": [
    "from masim_analysis.analysis import *\n",
    "\n",
    "strategies = [\n",
    "    \"AL5\",\n",
    "    \"AL4\",\n",
    "    \"AL25-ASAQ75\",\n",
    "    \"AL25-DHAPPQ75\",\n",
    "    \"AL50-ASAQ50\",\n",
    "    \"AL50-DHAPPQ50\",\n",
    "    \"AL75-ASAQ25\",\n",
    "    \"AL75-DHAPPQ25\",\n",
    "    \"ASAQ\",\n",
    "    \"ASAQ25-DHAPPQ75\",\n",
    "    \"ASAQ50-DHAPPQ50\",\n",
    "    \"ASAQ75-DHAPPQ25\",\n",
    "    \"DHA-PPQ\",\n",
    "    \"status_quo\",\n",
    "    \"DHA-PPQ_3yrs_then_5day_AL50-ASAQ50\",\n",
    "    \"DHA-PPQ_3yrs_then_AL50-DHAPPQ50\",\n",
    "]"
   ]
  },
  {
   "cell_type": "code",
   "execution_count": null,
   "id": "8c16e125",
   "metadata": {},
   "outputs": [],
   "source": [
    "import os\n",
    "import glob\n",
    "#DATA_ROOT: str = os.path.join(\"G:\\\\\", \"My Drive\")\n",
    "DATA_ROOT: str = os.path.join(\"/\", \"home\", \"james\", \"Code\", \"Temple-Malaria-Simulation-Analysis\")\n",
    "#DATA_SOURCE: str = os.path.join(DATA_ROOT, \"Code\", \"output_old\")\n",
    "DATA_SOURCE: str = os.path.join(DATA_ROOT, \"output2\", \"rwa\")\n",
    "filelist = glob.glob(os.path.join(DATA_SOURCE, \"*.db\"))"
   ]
  },
  {
   "cell_type": "markdown",
   "id": "4055186f",
   "metadata": {},
   "source": [
    "Prefilter the data to clear out runs that didn't complete"
   ]
  },
  {
   "cell_type": "code",
   "execution_count": null,
   "id": "092e5157",
   "metadata": {},
   "outputs": [],
   "source": [
    "import shutil\n",
    "\n",
    "for file in filelist:\n",
    "    months = get_table(file, 'monthlydata')\n",
    "    try:\n",
    "        last_month = months['id'].to_list()[-1]\n",
    "    except IndexError:\n",
    "        print(f\"File: {file} is missing data\")\n",
    "        continue\n",
    "    if last_month < 385:\n",
    "        print(f\"File: {file} is missing data for month {last_month}\")\n",
    "        continue\n",
    "    # move the file to the correct location\n",
    "    shutil.move(file, os.path.join(\"good\", os.path.basename(file)))"
   ]
  },
  {
   "cell_type": "code",
   "execution_count": null,
   "id": "de255eda",
   "metadata": {},
   "outputs": [],
   "source": [
    "# Create treatment failure plots for all strategies\n",
    "# Note: due to incomplete batch runs, some strategies may not have data or have incomplete data\n",
    "# Incomplete data will result in a ValueError when plotting due to a dimension mismatch\n",
    "\n",
    "DATA_SOURCE: str = os.path.join(DATA_ROOT, \"good\")\n",
    "\n",
    "for strategy in strategies:\n",
    "    try:\n",
    "        data = aggregate_failure_rates(DATA_SOURCE, strategy)\n",
    "    except TypeError as e:\n",
    "        print(e)\n",
    "        continue\n",
    "    except FileNotFoundError as e:\n",
    "        print(e)\n",
    "        continue\n",
    "    if data is None:\n",
    "        print(f\"No data found for {strategy} or there was an aggregation error\")\n",
    "        continue\n",
    "    try:\n",
    "        fig, ax = plot_strategy_treatment_failure(data, strategy.replace(\"_\", \" \").title())\n",
    "    except ValueError as e:\n",
    "        print(e)\n",
    "        plt.close(fig)\n",
    "        continue\n",
    "    plt.savefig(f\"{strategy}.png\")\n",
    "    plt.close(fig)"
   ]
  },
  {
   "cell_type": "code",
   "execution_count": null,
   "id": "83d13e25",
   "metadata": {},
   "outputs": [],
   "source": [
    "# Create a violin plot for a given genotype based on the row in agg_fqy\n",
    "fig, ax = plt.subplots()\n",
    "locationid = 1\n",
    "for i, strategy in enumerate(strategies):\n",
    "    try:\n",
    "        agg_fqy = aggregate_resistant_genome_frequencies(DATA_SOURCE, strategy, 'H', 325, locationid)\n",
    "    except TypeError as e:\n",
    "        print(e)\n",
    "        continue\n",
    "    except FileNotFoundError as e:\n",
    "        print(e)\n",
    "        continue\n",
    "    except ValueError as e:\n",
    "        print(e)\n",
    "        continue\n",
    "    except IndexError as e:\n",
    "        print(e)\n",
    "        continue\n",
    "    try:\n",
    "        ax.violinplot(agg_fqy, positions=[i], showmeans=True, orientation='horizontal')\n",
    "    except Exception as e:\n",
    "        print(e)\n",
    "        print(f\"Error plotting {strategy}\")\n",
    "        continue\n",
    "title = \"Genotype Frequencies\"# for Location {locationid}\"\n",
    "if locationid > 0:\n",
    "    title += f\" for Location {locationid}\"\n",
    "ax.set_title(title)\n",
    "ax.set_xlabel(\"Frequency\")\n",
    "ax.set_ylabel(\"Strategy\")\n",
    "ax.set_yticks(range(len(strategies)))\n",
    "ax.set_yticklabels(strategies)\n",
    "plt.savefig(\"genotype_frequencies_violins.png\")\n",
    "plt.show()"
   ]
  },
  {
   "cell_type": "markdown",
   "id": "0ac87aa7",
   "metadata": {},
   "source": [
    "Next we want to create Figure 2 from the [zubpko23 paper](https://mol.ax/pdf/zupko23b.pdf). Rather, than compare treatments, let's just do the results for one treatment per plot. \n",
    "\n",
    "Plot the following:\n",
    "1. Number of treamtment failures plus 90% confidence interval\n",
    "2. Resistant genometypes plus 90% confidence interval\n",
    "3. PfPR2-10 (twelve month smoothed malaria prevelance in children 2-10 years old)\n",
    "\n",
    "Plots are over ten years from when the treatment was started."
   ]
  },
  {
   "cell_type": "code",
   "execution_count": null,
   "id": "66acca9e",
   "metadata": {},
   "outputs": [],
   "source": [
    "for strategy in strategies:\n",
    "    try:\n",
    "        fig = plot_combined_strategy_aggragated_results(DATA_SOURCE, strategy, 'H', 1)\n",
    "    except Exception as e:\n",
    "        print(e)\n",
    "        continue\n",
    "    plt.savefig(f\"{strategy}_combined.png\")\n",
    "    plt.show()\n",
    "    plt.close(fig)"
   ]
  },
  {
   "cell_type": "code",
   "execution_count": null,
   "id": "da3bea7f",
   "metadata": {},
   "outputs": [],
   "source": []
  }
 ],
 "metadata": {
  "kernelspec": {
   "display_name": ".venv",
   "language": "python",
   "name": "python3"
  },
  "language_info": {
   "codemirror_mode": {
    "name": "ipython",
    "version": 3
   },
   "file_extension": ".py",
   "mimetype": "text/x-python",
   "name": "python",
   "nbconvert_exporter": "python",
   "pygments_lexer": "ipython3",
   "version": "3.12.3"
  }
 },
 "nbformat": 4,
 "nbformat_minor": 5
}
